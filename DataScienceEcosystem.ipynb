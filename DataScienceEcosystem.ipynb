{
 "cells": [
  {
   "cell_type": "markdown",
   "id": "b62e9dc8-75ac-4136-b29c-0745e039286e",
   "metadata": {},
   "source": [
    "# Data Science Tools and Ecosystem\n"
   ]
  },
  {
   "cell_type": "markdown",
   "id": "abb30064-b793-413d-a054-42290129619f",
   "metadata": {},
   "source": [
    "In this notebook, Data Science Tools and Ecosystem are summarized."
   ]
  },
  {
   "cell_type": "markdown",
   "id": "0e312b20-60f4-4e05-b772-1ecd73faa93d",
   "metadata": {},
   "source": [
    "**目的:**\n",
    "\n",
    "- データサイエンスで使われる一般的な言語をリストする\n",
    "- よく使われるライブラリとツールを理解する\n",
    "- 算術式の実行方法を学ぶ\n",
    "- マークダウンとコードセルの使い方を知る\n",
    "- Jupyter Notebook を GitHub にアップロードする方法を学ぶ\n"
   ]
  },
  {
   "cell_type": "markdown",
   "id": "c3cc6bcf-bb8b-4893-ab0b-47f5e8e69cde",
   "metadata": {},
   "source": [
    "Some of the popular languages that Data Scientists use are:\n",
    "データサイエンティストが使用する一般的な言語のいくつかは次のとおりです:\n",
    "\n",
    "1. Python  \n",
    "2. R  \n",
    "3. SQL  \n",
    "4. Julia  \n",
    "\n"
   ]
  },
  {
   "cell_type": "markdown",
   "id": "13fe3c31-ccf1-4c0f-812d-1bc9085ae94d",
   "metadata": {},
   "source": [
    "Some of the commonly used libraries used by Data Scientists include:データサイエンティストが使用する一般的なライブラリには次のようなものがあります:\n",
    "\n",
    "1. Pandas  \n",
    "2. NumPy  \n",
    "3. Matplotlib  \n",
    "4. ggplot2  \n",
    "5. Scikit-learn  \n"
   ]
  },
  {
   "cell_type": "markdown",
   "id": "be62411a-40b2-4104-bee8-a9dd6238a861",
   "metadata": {},
   "source": [
    "| データサイエンスツール |\n",
    "|------------------------|\n",
    "| Jupyter Notebook       |\n",
    "| RStudio                |\n",
    "| Apache Zeppelin        |\n"
   ]
  },
  {
   "cell_type": "markdown",
   "id": "2f565190-4a14-482b-82a5-a290e967f3aa",
   "metadata": {},
   "source": [
    "\n",
    "### Below are a few examples of evaluating arithmetic expressions in Python   \n",
    "\n",
    "### 以下は、Pythonで算術式を評価するいくつかの例です。\n",
    "\n"
   ]
  },
  {
   "cell_type": "code",
   "execution_count": 5,
   "id": "74494aae-6b8e-45cd-8cf1-e3ca8b477f8c",
   "metadata": {},
   "outputs": [
    {
     "data": {
      "text/plain": [
       "17"
      ]
     },
     "execution_count": 5,
     "metadata": {},
     "output_type": "execute_result"
    }
   ],
   "source": [
    "# This a simple arithmetic expression to mutiply then add integers\n",
    "(3*4)+5"
   ]
  },
  {
   "cell_type": "code",
   "execution_count": 6,
   "id": "813d59b2-fcf8-402a-921c-be40c3455597",
   "metadata": {},
   "outputs": [
    {
     "data": {
      "text/plain": [
       "3.3333333333333335"
      ]
     },
     "execution_count": 6,
     "metadata": {},
     "output_type": "execute_result"
    }
   ],
   "source": [
    "# This a simple arithmetic expression to mutiply then add integers\n",
    "200/60"
   ]
  },
  {
   "cell_type": "markdown",
   "id": "b3e5d4d2-9937-446f-b242-4e7c27001df5",
   "metadata": {},
   "source": [
    "## 著者\n",
    "\n",
    "misaprog"
   ]
  },
  {
   "cell_type": "code",
   "execution_count": null,
   "id": "0f9ebd4e-4ffb-4556-9dae-3db33abe8eab",
   "metadata": {},
   "outputs": [],
   "source": []
  }
 ],
 "metadata": {
  "kernelspec": {
   "display_name": "Python 3 (ipykernel)",
   "language": "python",
   "name": "python3"
  },
  "language_info": {
   "codemirror_mode": {
    "name": "ipython",
    "version": 3
   },
   "file_extension": ".py",
   "mimetype": "text/x-python",
   "name": "python",
   "nbconvert_exporter": "python",
   "pygments_lexer": "ipython3",
   "version": "3.13.5"
  }
 },
 "nbformat": 4,
 "nbformat_minor": 5
}
